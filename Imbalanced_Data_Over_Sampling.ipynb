{
 "cells": [
  {
   "cell_type": "code",
   "execution_count": 1,
   "metadata": {},
   "outputs": [
    {
     "name": "stderr",
     "output_type": "stream",
     "text": [
      "Using TensorFlow backend.\n"
     ]
    }
   ],
   "source": [
    "# importing packages\n",
    "import numpy as np\n",
    "import pandas as pd\n",
    "import scipy.stats as stats\n",
    "import sklearn\n",
    "import keras\n",
    "import imblearn\n",
    "import matplotlib.pyplot as plt\n",
    "import seaborn as sns\n",
    "plt.style.use('ggplot')"
   ]
  },
  {
   "cell_type": "code",
   "execution_count": 2,
   "metadata": {},
   "outputs": [],
   "source": [
    "df = pd.read_csv(\"C:/Users/Sangamithra/Desktop/Data Sets/creditcardfraud.csv\")"
   ]
  },
  {
   "cell_type": "code",
   "execution_count": 3,
   "metadata": {},
   "outputs": [
    {
     "data": {
      "text/html": [
       "<div>\n",
       "<style scoped>\n",
       "    .dataframe tbody tr th:only-of-type {\n",
       "        vertical-align: middle;\n",
       "    }\n",
       "\n",
       "    .dataframe tbody tr th {\n",
       "        vertical-align: top;\n",
       "    }\n",
       "\n",
       "    .dataframe thead th {\n",
       "        text-align: right;\n",
       "    }\n",
       "</style>\n",
       "<table border=\"1\" class=\"dataframe\">\n",
       "  <thead>\n",
       "    <tr style=\"text-align: right;\">\n",
       "      <th></th>\n",
       "      <th>Time</th>\n",
       "      <th>V1</th>\n",
       "      <th>V2</th>\n",
       "      <th>V3</th>\n",
       "      <th>V4</th>\n",
       "      <th>V5</th>\n",
       "      <th>V6</th>\n",
       "      <th>V7</th>\n",
       "      <th>V8</th>\n",
       "      <th>V9</th>\n",
       "      <th>...</th>\n",
       "      <th>V21</th>\n",
       "      <th>V22</th>\n",
       "      <th>V23</th>\n",
       "      <th>V24</th>\n",
       "      <th>V25</th>\n",
       "      <th>V26</th>\n",
       "      <th>V27</th>\n",
       "      <th>V28</th>\n",
       "      <th>Amount</th>\n",
       "      <th>Class</th>\n",
       "    </tr>\n",
       "  </thead>\n",
       "  <tbody>\n",
       "    <tr>\n",
       "      <th>119708</th>\n",
       "      <td>75554.0</td>\n",
       "      <td>-1.149953</td>\n",
       "      <td>-0.785466</td>\n",
       "      <td>2.580240</td>\n",
       "      <td>-1.583430</td>\n",
       "      <td>-0.893688</td>\n",
       "      <td>0.146797</td>\n",
       "      <td>-0.440620</td>\n",
       "      <td>0.427750</td>\n",
       "      <td>-0.922276</td>\n",
       "      <td>...</td>\n",
       "      <td>0.528893</td>\n",
       "      <td>1.163812</td>\n",
       "      <td>-0.044845</td>\n",
       "      <td>0.225185</td>\n",
       "      <td>0.363771</td>\n",
       "      <td>-0.130592</td>\n",
       "      <td>0.024215</td>\n",
       "      <td>0.067313</td>\n",
       "      <td>109.00</td>\n",
       "      <td>0</td>\n",
       "    </tr>\n",
       "    <tr>\n",
       "      <th>36478</th>\n",
       "      <td>38555.0</td>\n",
       "      <td>1.060237</td>\n",
       "      <td>-0.681257</td>\n",
       "      <td>0.965044</td>\n",
       "      <td>0.529629</td>\n",
       "      <td>-1.108776</td>\n",
       "      <td>0.308704</td>\n",
       "      <td>-0.769782</td>\n",
       "      <td>0.173771</td>\n",
       "      <td>-0.839746</td>\n",
       "      <td>...</td>\n",
       "      <td>-0.098972</td>\n",
       "      <td>0.233179</td>\n",
       "      <td>-0.081100</td>\n",
       "      <td>0.227253</td>\n",
       "      <td>0.393924</td>\n",
       "      <td>-0.232497</td>\n",
       "      <td>0.082601</td>\n",
       "      <td>0.036448</td>\n",
       "      <td>79.00</td>\n",
       "      <td>0</td>\n",
       "    </tr>\n",
       "    <tr>\n",
       "      <th>45249</th>\n",
       "      <td>42264.0</td>\n",
       "      <td>0.656079</td>\n",
       "      <td>-0.691909</td>\n",
       "      <td>0.138644</td>\n",
       "      <td>1.604118</td>\n",
       "      <td>-0.650480</td>\n",
       "      <td>0.145598</td>\n",
       "      <td>-0.106889</td>\n",
       "      <td>0.163168</td>\n",
       "      <td>0.684801</td>\n",
       "      <td>...</td>\n",
       "      <td>0.068549</td>\n",
       "      <td>-0.127976</td>\n",
       "      <td>-0.396184</td>\n",
       "      <td>-0.079620</td>\n",
       "      <td>0.571910</td>\n",
       "      <td>-0.296689</td>\n",
       "      <td>0.015168</td>\n",
       "      <td>0.079868</td>\n",
       "      <td>258.76</td>\n",
       "      <td>0</td>\n",
       "    </tr>\n",
       "    <tr>\n",
       "      <th>223315</th>\n",
       "      <td>143333.0</td>\n",
       "      <td>1.916246</td>\n",
       "      <td>-0.357213</td>\n",
       "      <td>0.475087</td>\n",
       "      <td>1.377314</td>\n",
       "      <td>-1.047767</td>\n",
       "      <td>-0.000210</td>\n",
       "      <td>-1.067456</td>\n",
       "      <td>0.182745</td>\n",
       "      <td>1.438645</td>\n",
       "      <td>...</td>\n",
       "      <td>0.249609</td>\n",
       "      <td>0.943674</td>\n",
       "      <td>0.201500</td>\n",
       "      <td>-0.105746</td>\n",
       "      <td>-0.314510</td>\n",
       "      <td>-0.578532</td>\n",
       "      <td>0.100290</td>\n",
       "      <td>-0.018731</td>\n",
       "      <td>0.01</td>\n",
       "      <td>0</td>\n",
       "    </tr>\n",
       "    <tr>\n",
       "      <th>134903</th>\n",
       "      <td>81023.0</td>\n",
       "      <td>-0.762966</td>\n",
       "      <td>1.159223</td>\n",
       "      <td>-0.519819</td>\n",
       "      <td>-1.214505</td>\n",
       "      <td>2.460260</td>\n",
       "      <td>3.228012</td>\n",
       "      <td>0.098611</td>\n",
       "      <td>0.953997</td>\n",
       "      <td>-0.120617</td>\n",
       "      <td>...</td>\n",
       "      <td>-0.380358</td>\n",
       "      <td>-1.051288</td>\n",
       "      <td>-0.021003</td>\n",
       "      <td>0.928000</td>\n",
       "      <td>0.099234</td>\n",
       "      <td>0.097400</td>\n",
       "      <td>0.455288</td>\n",
       "      <td>0.226107</td>\n",
       "      <td>7.18</td>\n",
       "      <td>0</td>\n",
       "    </tr>\n",
       "  </tbody>\n",
       "</table>\n",
       "<p>5 rows × 31 columns</p>\n",
       "</div>"
      ],
      "text/plain": [
       "            Time        V1        V2        V3        V4        V5        V6  \\\n",
       "119708   75554.0 -1.149953 -0.785466  2.580240 -1.583430 -0.893688  0.146797   \n",
       "36478    38555.0  1.060237 -0.681257  0.965044  0.529629 -1.108776  0.308704   \n",
       "45249    42264.0  0.656079 -0.691909  0.138644  1.604118 -0.650480  0.145598   \n",
       "223315  143333.0  1.916246 -0.357213  0.475087  1.377314 -1.047767 -0.000210   \n",
       "134903   81023.0 -0.762966  1.159223 -0.519819 -1.214505  2.460260  3.228012   \n",
       "\n",
       "              V7        V8        V9  ...       V21       V22       V23  \\\n",
       "119708 -0.440620  0.427750 -0.922276  ...  0.528893  1.163812 -0.044845   \n",
       "36478  -0.769782  0.173771 -0.839746  ... -0.098972  0.233179 -0.081100   \n",
       "45249  -0.106889  0.163168  0.684801  ...  0.068549 -0.127976 -0.396184   \n",
       "223315 -1.067456  0.182745  1.438645  ...  0.249609  0.943674  0.201500   \n",
       "134903  0.098611  0.953997 -0.120617  ... -0.380358 -1.051288 -0.021003   \n",
       "\n",
       "             V24       V25       V26       V27       V28  Amount  Class  \n",
       "119708  0.225185  0.363771 -0.130592  0.024215  0.067313  109.00      0  \n",
       "36478   0.227253  0.393924 -0.232497  0.082601  0.036448   79.00      0  \n",
       "45249  -0.079620  0.571910 -0.296689  0.015168  0.079868  258.76      0  \n",
       "223315 -0.105746 -0.314510 -0.578532  0.100290 -0.018731    0.01      0  \n",
       "134903  0.928000  0.099234  0.097400  0.455288  0.226107    7.18      0  \n",
       "\n",
       "[5 rows x 31 columns]"
      ]
     },
     "execution_count": 3,
     "metadata": {},
     "output_type": "execute_result"
    }
   ],
   "source": [
    "df.sample(5)"
   ]
  },
  {
   "cell_type": "code",
   "execution_count": 4,
   "metadata": {},
   "outputs": [
    {
     "data": {
      "text/plain": [
       "Text(0.5, 1.0, 'No Fraud (0) vs. Fraud (1)')"
      ]
     },
     "execution_count": 4,
     "metadata": {},
     "output_type": "execute_result"
    },
    {
     "data": {
      "image/png": "[encoded data removed]",
      "text/plain": [
       "<Figure size 432x288 with 1 Axes>"
      ]
     },
     "metadata": {
      "needs_background": "light"
     },
     "output_type": "display_data"
    }
   ],
   "source": [
    "# taking a closer look at the class variable\n",
    "sns.countplot('Class', data = df)\n",
    "plt.title('No Fraud (0) vs. Fraud (1)')"
   ]
  },
  {
   "cell_type": "code",
   "execution_count": null,
   "metadata": {},
   "outputs": [],
   "source": [
    "#One common way to tackle the issue of imbalanced data is over-sampling. Over-sampling refers to various methods that aim to increase the number of instances from the underrepresented class in the data set.\n",
    "#In our case, these techniques will increase the number of fraudulent transactions in our data (usually to 50:50). You might ask why one would even do that in the first place. Good question. If you do not balance the number of instances, most classification algorithms will heavily focus on the majority class. As a result, it might seem like your algorithm is achieving superb results when, in reality, it is simply always predicting the majority class."
   ]
  },
  {
   "cell_type": "code",
   "execution_count": null,
   "metadata": {},
   "outputs": [],
   "source": [
    "#Random naive over-sampling\n",
    "#The easiest way to do so is to randomly select observations from the minority class and add them to the data set until we achieve a balance between the majority and minority class. Since this is relatively straight-forward one would not necessarily have to use imblearn but could randomly select observations using NumPy for instance.\n",
    "#In imblearn, one would do the following after splitting our data into x (all variables except for the class) and y (the class):"
   ]
  },
  {
   "cell_type": "code",
   "execution_count": 7,
   "metadata": {},
   "outputs": [],
   "source": [
    "X = df.iloc[:,0:30]  #independent columns\n",
    "y = df.iloc[:,-1]    #target column class"
   ]
  },
  {
   "cell_type": "code",
   "execution_count": 8,
   "metadata": {},
   "outputs": [
    {
     "name": "stdout",
     "output_type": "stream",
     "text": [
      "[(0, 284315), (1, 284315)]\n"
     ]
    }
   ],
   "source": [
    "#imports \n",
    "from imblearn.over_sampling import RandomOverSampler\n",
    "\n",
    "# random oversampling\n",
    "ros = RandomOverSampler(random_state=0)\n",
    "X_resampled, y_resampled = ros.fit_resample(X, y)\n",
    "\n",
    "# using Counter to display results of naive oversampling\n",
    "from collections import Counter\n",
    "print(sorted(Counter(y_resampled).items()))"
   ]
  },
  {
   "cell_type": "code",
   "execution_count": 9,
   "metadata": {},
   "outputs": [],
   "source": [
    "#Issue Above :\n",
    "#One issue with random naive over-sampling is that it just duplicates already existing data. Therefore, while classification algorithms are exposed to a greater amount of observations from the minority class, they won’t learn more about how to tell fraudulent and non-fraudulent observations apart. The new data does not contain more information about the characteristics of fraudulent transactions than the old data."
   ]
  },
  {
   "cell_type": "code",
   "execution_count": 11,
   "metadata": {},
   "outputs": [],
   "source": [
    "##Synthetic Minority Over-Sampling Technique (SMOTE)\n",
    "##A more advanced alternative to using random naive over-sampling is Synthetic Minority Over-Sampling Technique(SMOTE). While SMOTE still oversamples the minority class, it does not rely on reusing previously existing observations. Instead, SMOTE creates new (synthetic) observations based on the observations in your data. How does SMOTE do that? To illustrate my point, I’ve put together a fictional data set:"
   ]
  },
  {
   "cell_type": "code",
   "execution_count": 13,
   "metadata": {},
   "outputs": [
    {
     "name": "stdout",
     "output_type": "stream",
     "text": [
      "[(0, 284315), (1, 284315)]\n"
     ]
    }
   ],
   "source": [
    "# importing SMOTE\n",
    "from imblearn.over_sampling import SMOTE\n",
    "\n",
    "# applying SMOTE to our data and checking the class counts\n",
    "X_resampled, y_resampled = SMOTE().fit_resample(X, y)\n",
    "print(sorted(Counter(y_resampled).items()))"
   ]
  },
  {
   "cell_type": "code",
   "execution_count": null,
   "metadata": {},
   "outputs": [],
   "source": [
    "#Adaptive Synthetic (ADASYN)\n",
    "#ADASYN’s main advantage lies in its adaptive nature: by basing the number of synthetic observations on the ratio of majority to minority observations, ADASYN places a higher emphasis on more challenging regions of the data."
   ]
  },
  {
   "cell_type": "code",
   "execution_count": 15,
   "metadata": {},
   "outputs": [
    {
     "name": "stdout",
     "output_type": "stream",
     "text": [
      "[(0, 284315), (1, 284298)]\n"
     ]
    }
   ],
   "source": [
    "# importing ADASYN\n",
    "from imblearn.over_sampling import ADASYN\n",
    "\n",
    "# applying ADASYN\n",
    "X_resampled, y_resampled = ADASYN().fit_resample(X, y)\n",
    "print(sorted(Counter(y_resampled).items()))"
   ]
  },
  {
   "cell_type": "code",
   "execution_count": 16,
   "metadata": {},
   "outputs": [],
   "source": [
    "#BorderlineSMOTE: Instead of oversampling between all minority observations, BorderlineSMOTE aims to increase the number of minority observations that border majority observations. The goal here is to allow the classifier to be able to distinguish between these borderline observations more clearly."
   ]
  },
  {
   "cell_type": "code",
   "execution_count": null,
   "metadata": {},
   "outputs": [],
   "source": [
    "# BorderlineSMOTE\n",
    "from imblearn.over_sampling import BorderlineSMOTE\n",
    "\n",
    "X_resampled, y_resampled = BorderlineSMOTE().fit_resample(X, y)\n",
    "print(sorted(Counter(y_resampled).items()))"
   ]
  },
  {
   "cell_type": "code",
   "execution_count": null,
   "metadata": {},
   "outputs": [],
   "source": []
  }
 ],
 "metadata": {
  "kernelspec": {
   "display_name": "Python 3",
   "language": "python",
   "name": "python3"
  },
  "language_info": {
   "codemirror_mode": {
    "name": "ipython",
    "version": 3
   },
   "file_extension": ".py",
   "mimetype": "text/x-python",
   "name": "python",
   "nbconvert_exporter": "python",
   "pygments_lexer": "ipython3",
   "version": "3.7.3"
  }
 },
 "nbformat": 4,
 "nbformat_minor": 2
}
